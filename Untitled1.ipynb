{
 "cells": [
  {
   "cell_type": "code",
   "execution_count": null,
   "metadata": {},
   "outputs": [],
   "source": [
    "f = open(input(\"Enter the name of the file:\"),'r')\n",
    "lines = 0\n",
    "words = 0\n",
    "characters = 0\n",
    "for line in f:\n",
    "   wordslist = line.split()\n",
    "   lines = lines + 1\n",
    "   words = words + len(wordslist)\n",
    "   characters = characters + len(line)\n",
    "print('no of lines in the file : ',lines)\n",
    "print('no of words in the file : ',words)\n",
    "print('no of characters in the file : ',characters)\n",
    "print(f.read())"
   ]
  }
 ],
 "metadata": {
  "kernelspec": {
   "display_name": "Python 3",
   "language": "python",
   "name": "python3"
  },
  "language_info": {
   "codemirror_mode": {
    "name": "ipython",
    "version": 3
   },
   "file_extension": ".py",
   "mimetype": "text/x-python",
   "name": "python",
   "nbconvert_exporter": "python",
   "pygments_lexer": "ipython3",
   "version": "3.7.3"
  }
 },
 "nbformat": 4,
 "nbformat_minor": 2
}
